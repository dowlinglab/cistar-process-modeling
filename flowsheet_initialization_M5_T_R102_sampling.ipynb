{
 "cells": [
  {
   "cell_type": "markdown",
   "metadata": {},
   "source": [
    "# Flowsheet initialization\n",
    "This flowsheet generated multiple initialization instances at different R102 temperatures for multistart optimization"
   ]
  },
  {
   "cell_type": "markdown",
   "metadata": {},
   "source": [
    "### ROK model = M5"
   ]
  },
  {
   "cell_type": "code",
   "execution_count": null,
   "metadata": {},
   "outputs": [],
   "source": [
    "# simulation case specifications\n",
    "model_code = 5\n",
    "case_name = 'Bakken'"
   ]
  },
  {
   "cell_type": "code",
   "execution_count": null,
   "metadata": {},
   "outputs": [],
   "source": [
    "from idaes.core.util.model_statistics import degrees_of_freedom, large_residuals_set\n",
    "\n",
    "# Import idaes model serializer to store initialized model\n",
    "from idaes.core.util import model_serializer as ms\n",
    "\n",
    "from pyomo.environ import (Constraint,\n",
    "                           ConstraintList,\n",
    "                           Var,\n",
    "                           ConcreteModel,\n",
    "                           Expression,\n",
    "                           Param,\n",
    "                           Set,\n",
    "                           Objective,\n",
    "                           SolverFactory,\n",
    "                           TransformationFactory,\n",
    "                           value,\n",
    "                           minimize)\n",
    "\n",
    "from src.unit_initialization import create_flowsheet, \\\n",
    "                                    define_models, \\\n",
    "                                    define_arcs, \\\n",
    "                                    set_unit_model_variables, \\\n",
    "                                    initialize_flowsheet, \\\n",
    "                                    set_scaling_factors,\\\n",
    "                                    update_model_after_initialization,\\\n",
    "                                    vapor_only_to_vapor_liquid_reformulate,\\\n",
    "                                    H106_inlet_vapor_reformulate, \\\n",
    "                                    replace_heater_heat_duty_constraint_with_bounds, \\\n",
    "                                    update_model_for_optimization, \\\n",
    "                                    unfix_DOFs_pre_optimization, \\\n",
    "                                    fix_DOFs_post_optimization"
   ]
  },
  {
   "cell_type": "code",
   "execution_count": null,
   "metadata": {
    "scrolled": false
   },
   "outputs": [],
   "source": [
    "m = create_flowsheet(model_code)"
   ]
  },
  {
   "cell_type": "code",
   "execution_count": null,
   "metadata": {},
   "outputs": [],
   "source": [
    "M_catalyst = 1167.003367 # kg"
   ]
  },
  {
   "cell_type": "markdown",
   "metadata": {},
   "source": [
    "## Define equipment and connections"
   ]
  },
  {
   "cell_type": "code",
   "execution_count": null,
   "metadata": {},
   "outputs": [],
   "source": [
    "# define unit models\n",
    "define_models(m, catalyst_mass = M_catalyst)\n",
    "#define connections\n",
    "define_arcs(m)"
   ]
  },
  {
   "cell_type": "markdown",
   "metadata": {},
   "source": [
    "## Define inlet compositions"
   ]
  },
  {
   "cell_type": "code",
   "execution_count": null,
   "metadata": {},
   "outputs": [],
   "source": [
    "import pandas as pd\n",
    "\n",
    "inlet_df = pd.read_csv('NGL_compositions.csv')\n",
    "\n",
    "inlet_composition_dict = {}\n",
    "\n",
    "for col in inlet_df.columns:\n",
    "    if col == case_name:\n",
    "        for i,r in inlet_df.iterrows():\n",
    "            if r[col] == 0.0:\n",
    "                inlet_composition_dict[r['Species']] = 1e-6\n",
    "            else:\n",
    "                inlet_composition_dict[r['Species']] = round(r[col],4)\n",
    "\n",
    "inlet_flow_rate = 481.3888889\n",
    "\n",
    "inlet_composition_dict\n",
    "\n",
    "dehydro_conv_dict = {'ethane':0.3566,\n",
    "                     'propane':0.6632,\n",
    "                     'nbutane':0.5188}\n",
    "\n",
    "inlet_composition_dict"
   ]
  },
  {
   "cell_type": "markdown",
   "metadata": {},
   "source": [
    "## Define constraints and set-points for equipment"
   ]
  },
  {
   "cell_type": "code",
   "execution_count": null,
   "metadata": {},
   "outputs": [],
   "source": [
    "set_unit_model_variables(m, model_code=model_code, feed_flow_rate = inlet_flow_rate, \n",
    "                         feed_temp = 308.0, feed_pressure = 700000.0,\n",
    "                         inlet_composition_dict = inlet_composition_dict,\n",
    "                         dehydro_conv_dict = dehydro_conv_dict)"
   ]
  },
  {
   "cell_type": "markdown",
   "metadata": {},
   "source": [
    "## Scale model components"
   ]
  },
  {
   "cell_type": "code",
   "execution_count": null,
   "metadata": {
    "scrolled": true
   },
   "outputs": [],
   "source": [
    "if model_code == 2 or model_code == 3:\n",
    "    set_scaling_factors(m,flow_mol_scaling_factor = 1e-2, inlet_composition_dict = inlet_composition_dict)\n",
    "elif model_code == 4 or model_code == 5:\n",
    "    set_scaling_factors(m,flow_mol_scaling_factor = 1e-3, inlet_composition_dict = inlet_composition_dict)\n",
    "else:\n",
    "    pass"
   ]
  },
  {
   "cell_type": "markdown",
   "metadata": {},
   "source": [
    "## Initialized Flowsheet read-in"
   ]
  },
  {
   "cell_type": "code",
   "execution_count": null,
   "metadata": {},
   "outputs": [],
   "source": [
    "ms.from_json(m, fname=\"./initialization_files/CISTAR_unit_initialization_{}_M{}.json.gz\".format(case_name, model_code))"
   ]
  },
  {
   "cell_type": "markdown",
   "metadata": {},
   "source": [
    "## Add post-initialization constraints"
   ]
  },
  {
   "cell_type": "code",
   "execution_count": null,
   "metadata": {},
   "outputs": [],
   "source": [
    "update_model_after_initialization(m)\n",
    "vapor_only_to_vapor_liquid_reformulate(m.fs.T102)\n",
    "vapor_only_to_vapor_liquid_reformulate(m.fs.T102)"
   ]
  },
  {
   "cell_type": "code",
   "execution_count": null,
   "metadata": {},
   "outputs": [],
   "source": [
    "ms.from_json(m, fname=\"./initialization_files/CISTAR_solve_constrained_{}_M{}_purge_{}.json.gz\".format(case_name, model_code,round(m.fs.S102.split_fraction[0, \"purge\"](),3)))"
   ]
  },
  {
   "cell_type": "code",
   "execution_count": null,
   "metadata": {},
   "outputs": [],
   "source": [
    "replace_heater_heat_duty_constraint_with_bounds(m)"
   ]
  },
  {
   "cell_type": "markdown",
   "metadata": {},
   "source": [
    "# Flowsheet convergence"
   ]
  },
  {
   "cell_type": "markdown",
   "metadata": {},
   "source": [
    "## Set _R102 and solve flowsheet"
   ]
  },
  {
   "cell_type": "code",
   "execution_count": null,
   "metadata": {},
   "outputs": [],
   "source": [
    "# T_R102_list = [523.0,533.0,543.0,553.0,563.0,573.0,583.0,593.0,603.0,613.0,623.0]\n",
    "T_R102_list = [523.0]"
   ]
  },
  {
   "cell_type": "code",
   "execution_count": null,
   "metadata": {},
   "outputs": [],
   "source": [
    "DOF_initial = degrees_of_freedom(m)\n",
    "print(\"The final DOF of initialized flowsheet is {0}\".format(DOF_initial))"
   ]
  },
  {
   "cell_type": "code",
   "execution_count": null,
   "metadata": {
    "scrolled": true
   },
   "outputs": [],
   "source": [
    "for T_R102 in T_R102_list:\n",
    "    print(\"***********************  T_R102 = {}  ***********************\".format(T_R102))\n",
    "    m.fs.H103.outlet.temperature.unfix()\n",
    "    m.fs.H103.outlet.temperature.fix(T_R102)\n",
    "    \n",
    "    for i in m.fs.R102.control_volume.length_domain:\n",
    "        m.fs.R102.control_volume.properties[0.0,i].temperature.unfix()\n",
    "        if i != 0:\n",
    "            m.fs.R102.control_volume.properties[0.0,i].temperature.fix(T_R102)\n",
    "    \n",
    "    # Unfix H105 DoFs: outlet T\n",
    "    m.fs.H105.outlet.temperature.unfix()\n",
    "\n",
    "    # Unfix F101 DoF: pressure drop\n",
    "    m.fs.F101.deltaP.unfix()\n",
    "\n",
    "    # Unfix H106 DoFs: outlet T and P\n",
    "    m.fs.H106.outlet.pressure.unfix()\n",
    "\n",
    "    # Unfix F102 DoF: pressure drop\n",
    "    m.fs.F102.deltaP.unfix()\n",
    "    \n",
    "    DOF_initial = degrees_of_freedom(m)\n",
    "    print(\"The initial DOF is {0}\".format(DOF_initial))\n",
    "    solver = SolverFactory('ipopt')\n",
    "    solver.options = {'tol': 1e-6,\n",
    "                      'bound_push': 1e-8,\n",
    "                      'max_iter':200\n",
    "                     }\n",
    "    # solve\n",
    "    solve_status = solver.solve(m, tee=True)\n",
    "    \n",
    "    # Fix H105 DoFs: outlet T\n",
    "    m.fs.H105.outlet.temperature.fix()\n",
    "\n",
    "    # Fix F101 DoF: pressure drop\n",
    "    m.fs.F101.deltaP.fix()\n",
    "\n",
    "    # Fix H106 DoFs: outlet T and P\n",
    "    m.fs.H106.outlet.pressure.fix()\n",
    "\n",
    "    # Fix F102 DoF: pressure drop\n",
    "    m.fs.F102.deltaP.fix()\n",
    "    \n",
    "    ms.to_json(m, fname=\"./initialization_files/CISTAR_solve_constrained_{}_M{}_purge_{}_T_R102={}.json.gz\".format(case_name, model_code,round(m.fs.S102.split_fraction[0, \"purge\"](),3),T_R102))\n",
    "    m.fs.H106.report()"
   ]
  },
  {
   "cell_type": "code",
   "execution_count": null,
   "metadata": {},
   "outputs": [],
   "source": [
    "m.fs.H106.heat_duty.pprint()"
   ]
  },
  {
   "cell_type": "code",
   "execution_count": null,
   "metadata": {},
   "outputs": [],
   "source": [
    "for T_R102 in T_R102_list:\n",
    "    ms.from_json(m, fname=\"./initialization_files/CISTAR_solve_constrained_{}_M{}_purge_{}_T_R102={}.json.gz\".format(case_name, model_code,round(m.fs.S102.split_fraction[0, \"purge\"](),3),T_R102))\n",
    "    print('\\n **** T_R102 = {} ****'.format(round(m.fs.R102.control_volume.properties[0,1.0].temperature(),4)))\n",
    "    print('T_H105 = {}'.format(round(m.fs.H105.outlet.temperature[0](),4)))\n",
    "    print('dP_F101 = {}'.format(round(m.fs.F101.deltaP[0](),4)))\n",
    "    print('T_H106 = {}'.format(round(m.fs.H106.outlet.temperature[0](),4)))\n",
    "    print('P_H106 = {}'.format(round(m.fs.H106.outlet.pressure[0](),4)))\n",
    "    print('dP_F102 = {}'.format(round(m.fs.F102.deltaP[0](),4)))"
   ]
  },
  {
   "cell_type": "code",
   "execution_count": null,
   "metadata": {},
   "outputs": [],
   "source": []
  }
 ],
 "metadata": {
  "kernelspec": {
   "display_name": "Python 3",
   "language": "python",
   "name": "python3"
  },
  "language_info": {
   "codemirror_mode": {
    "name": "ipython",
    "version": 3
   },
   "file_extension": ".py",
   "mimetype": "text/x-python",
   "name": "python",
   "nbconvert_exporter": "python",
   "pygments_lexer": "ipython3",
   "version": "3.8.5"
  }
 },
 "nbformat": 4,
 "nbformat_minor": 5
}
