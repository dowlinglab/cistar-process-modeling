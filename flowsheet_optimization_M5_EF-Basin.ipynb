{
 "cells": [
  {
   "cell_type": "markdown",
   "metadata": {},
   "source": [
    "# Flowsheet optimization\n",
    "## ROK model: M5; Region: Eagle Ford Basin (EF-Basin); CO$_2$ tax rate: USD 45/tonne CO$_2$e"
   ]
  },
  {
   "cell_type": "code",
   "execution_count": 1,
   "metadata": {},
   "outputs": [],
   "source": [
    "# simulation case specifications\n",
    "model_code = 5\n",
    "case_name = 'EF-Basin'\n",
    "c_tax_rate = 4.5e-2"
   ]
  },
  {
   "cell_type": "code",
   "execution_count": 2,
   "metadata": {},
   "outputs": [],
   "source": [
    "from idaes.core.util.model_statistics import degrees_of_freedom, large_residuals_set\n",
    "\n",
    "# Import idaes model serializer to store initialized model\n",
    "from idaes.core.util import model_serializer as ms\n",
    "\n",
    "from pyomo.environ import (Constraint,\n",
    "                           ConstraintList,\n",
    "                           Var,\n",
    "                           ConcreteModel,\n",
    "                           Expression,\n",
    "                           Param,\n",
    "                           Set,\n",
    "                           Objective,\n",
    "                           SolverFactory,\n",
    "                           TransformationFactory,\n",
    "                           value,\n",
    "                           minimize)\n",
    "\n",
    "from src.unit_initialization import create_flowsheet, \\\n",
    "                                    define_models, \\\n",
    "                                    define_arcs, \\\n",
    "                                    set_unit_model_variables, \\\n",
    "                                    initialize_flowsheet, \\\n",
    "                                    set_scaling_factors,\\\n",
    "                                    update_model_after_initialization,\\\n",
    "                                    vapor_only_to_vapor_liquid_reformulate,\\\n",
    "                                    update_model_for_optimization, \\\n",
    "                                    unfix_DOFs_pre_optimization, \\\n",
    "                                    fix_DOFs_post_optimization"
   ]
  },
  {
   "cell_type": "markdown",
   "metadata": {},
   "source": [
    "## Create flowsheet"
   ]
  },
  {
   "cell_type": "code",
   "execution_count": 3,
   "metadata": {
    "scrolled": false
   },
   "outputs": [],
   "source": [
    "m = create_flowsheet(model_code)"
   ]
  },
  {
   "cell_type": "code",
   "execution_count": 4,
   "metadata": {},
   "outputs": [],
   "source": [
    "M_catalyst = 1167.003367 # kg"
   ]
  },
  {
   "cell_type": "markdown",
   "metadata": {},
   "source": [
    "## Define equipment and connections"
   ]
  },
  {
   "cell_type": "code",
   "execution_count": 5,
   "metadata": {},
   "outputs": [],
   "source": [
    "# define unit models\n",
    "define_models(m, catalyst_mass = M_catalyst)\n",
    "#define connections\n",
    "define_arcs(m)"
   ]
  },
  {
   "cell_type": "markdown",
   "metadata": {},
   "source": [
    "## Define inlet compositions"
   ]
  },
  {
   "cell_type": "code",
   "execution_count": 6,
   "metadata": {},
   "outputs": [],
   "source": [
    "import pandas as pd\n",
    "\n",
    "inlet_df = pd.read_csv('NGL_compositions.csv')\n",
    "\n",
    "inlet_composition_dict = {}\n",
    "\n",
    "for col in inlet_df.columns:\n",
    "    if col == case_name:\n",
    "        for i,r in inlet_df.iterrows():\n",
    "            if r[col] == 0.0:\n",
    "                inlet_composition_dict[r['Species']] = 1e-6\n",
    "            else:\n",
    "                inlet_composition_dict[r['Species']] = round(r[col],4)\n",
    "\n",
    "inlet_flow_rate = 481.3888889\n",
    "\n",
    "dehydro_conv_dict = {'ethane':0.3566,\n",
    "                     'propane':0.6632,\n",
    "                     'nbutane':0.5188}"
   ]
  },
  {
   "cell_type": "markdown",
   "metadata": {},
   "source": [
    "## Define constraints and set-points for equipment"
   ]
  },
  {
   "cell_type": "code",
   "execution_count": 7,
   "metadata": {},
   "outputs": [],
   "source": [
    "set_unit_model_variables(m, model_code=model_code, feed_flow_rate = inlet_flow_rate, \n",
    "                         feed_temp = 308.0, feed_pressure = 700000.0,\n",
    "                         inlet_composition_dict = inlet_composition_dict,\n",
    "                         dehydro_conv_dict = dehydro_conv_dict)"
   ]
  },
  {
   "cell_type": "markdown",
   "metadata": {},
   "source": [
    "## Scale model components"
   ]
  },
  {
   "cell_type": "code",
   "execution_count": 8,
   "metadata": {
    "scrolled": true
   },
   "outputs": [],
   "source": [
    "if model_code == 2 or model_code == 3:\n",
    "    set_scaling_factors(m,flow_mol_scaling_factor = 1e-2, inlet_composition_dict = inlet_composition_dict)\n",
    "elif model_code == 4 or model_code == 5:\n",
    "    set_scaling_factors(m,flow_mol_scaling_factor = 1e-3, inlet_composition_dict = inlet_composition_dict)\n",
    "else:\n",
    "    pass"
   ]
  },
  {
   "cell_type": "markdown",
   "metadata": {},
   "source": [
    "## Read-in initialization data from .json file with Bakken feed"
   ]
  },
  {
   "cell_type": "code",
   "execution_count": 9,
   "metadata": {},
   "outputs": [
    {
     "data": {
      "text/plain": [
       "{'etime_load_file': 0.07553577423095703,\n",
       " 'etime_read_dict': 0.17581629753112793,\n",
       " 'etime_read_suffixes': 0.0049915313720703125}"
      ]
     },
     "execution_count": 9,
     "metadata": {},
     "output_type": "execute_result"
    }
   ],
   "source": [
    "init_file_name = \"./initialization_files/CISTAR_unit_initialization_{}_M{}.json.gz\".format('Bakken', model_code)\n",
    "ms.from_json(m, fname=init_file_name)"
   ]
  },
  {
   "cell_type": "markdown",
   "metadata": {},
   "source": [
    "## Add post-initialization constraints"
   ]
  },
  {
   "cell_type": "code",
   "execution_count": 10,
   "metadata": {},
   "outputs": [
    {
     "name": "stdout",
     "output_type": "stream",
     "text": [
      "Liquid phase flow is zero. Translator block fs.T102 liquid phase composition equations are being modified...\n",
      "\n",
      "Degenerate constraints removed and liquid phase composition values set to 1e-8\n",
      "\n",
      "Translator block fs.T102 liquid phase composition equations already modified, no degenerate constraints remaining.\n",
      "\n"
     ]
    }
   ],
   "source": [
    "update_model_after_initialization(m)\n",
    "vapor_only_to_vapor_liquid_reformulate(m.fs.T102)\n",
    "vapor_only_to_vapor_liquid_reformulate(m.fs.T102)"
   ]
  },
  {
   "cell_type": "markdown",
   "metadata": {},
   "source": [
    "## Read-in flowsheet convergence data from .json file"
   ]
  },
  {
   "cell_type": "code",
   "execution_count": 11,
   "metadata": {},
   "outputs": [
    {
     "data": {
      "text/plain": [
       "{'etime_load_file': 0.08616781234741211,\n",
       " 'etime_read_dict': 0.17053794860839844,\n",
       " 'etime_read_suffixes': 0.005975008010864258}"
      ]
     },
     "execution_count": 11,
     "metadata": {},
     "output_type": "execute_result"
    }
   ],
   "source": [
    "init_file_name = \"./initialization_files/CISTAR_solve_constrained_{}_M{}_purge_{}.json.gz\".format(case_name, model_code,round(m.fs.S102.split_fraction[0, \"purge\"](),3))\n",
    "ms.from_json(m, fname=init_file_name)"
   ]
  },
  {
   "cell_type": "markdown",
   "metadata": {},
   "source": [
    "## Costing"
   ]
  },
  {
   "cell_type": "code",
   "execution_count": 12,
   "metadata": {},
   "outputs": [],
   "source": [
    "from src.emissions_calculations import calc_lhv_values, calculate_stream_energies, calculate_emissions, create_ghg_objective, delete_region_specific_components\n",
    "from src.costing_function import add_costing,calculate_costs_for_objective\n",
    "from src.utility_minimization_1d import (\n",
    "    min_utility,\n",
    "    PinchDataClass,\n",
    "    heat_ex_data,\n",
    "    gen_curves,\n",
    "    print_HX_results,\n",
    "    generate_curves,\n",
    "    heat_data,\n",
    "    pinch_calc,\n",
    "    return_data\n",
    ")"
   ]
  },
  {
   "cell_type": "markdown",
   "metadata": {},
   "source": [
    "### Equipment costing"
   ]
  },
  {
   "cell_type": "code",
   "execution_count": 13,
   "metadata": {},
   "outputs": [],
   "source": [
    "add_costing(m)"
   ]
  },
  {
   "cell_type": "markdown",
   "metadata": {},
   "source": [
    "### Heat integration"
   ]
  },
  {
   "cell_type": "code",
   "execution_count": 14,
   "metadata": {},
   "outputs": [],
   "source": [
    "### Heat Exchangers and reactors\n",
    "min_utility(\n",
    "    m.fs, [m.fs.H101, m.fs.H103, m.fs.R101], [m.fs.H102, m.fs.H104, m.fs.H105, m.fs.H106, m.fs.R102], 10.0\n",
    ")\n",
    "m.fs.Qs.fix()"
   ]
  },
  {
   "cell_type": "markdown",
   "metadata": {},
   "source": [
    "### Emissions calculation"
   ]
  },
  {
   "cell_type": "code",
   "execution_count": 15,
   "metadata": {},
   "outputs": [],
   "source": [
    "calc_lhv_values(m,case_name,'./LHV.xlsx','NGL_compositions.csv','NGL_fraction.csv')\n",
    "calculate_stream_energies(m)\n",
    "calculate_emissions(m,case_name,'emissions_factor_by_region.csv')\n",
    "create_ghg_objective(m)\n",
    "calculate_costs_for_objective(m,c_tax_flag=True, c_tax_val = c_tax_rate)"
   ]
  },
  {
   "cell_type": "markdown",
   "metadata": {},
   "source": [
    "## Read-in costing-initialized flowsheet data from .json file"
   ]
  },
  {
   "cell_type": "code",
   "execution_count": 16,
   "metadata": {},
   "outputs": [
    {
     "data": {
      "text/plain": [
       "{'etime_load_file': 0.11247038841247559,\n",
       " 'etime_read_dict': 0.3111395835876465,\n",
       " 'etime_read_suffixes': 0.010613441467285156}"
      ]
     },
     "execution_count": 16,
     "metadata": {},
     "output_type": "execute_result"
    }
   ],
   "source": [
    "init_file_name = \"./initialization_files/CISTAR_solve_with_costing_{}_C_tax_{}_M{}_purge_{}.json.gz\".format(case_name,m.fs.c_tax_rate(), model_code,round(m.fs.S102.split_fraction[0, \"purge\"](),3))\n",
    "ms.from_json(m, fname=init_file_name)"
   ]
  },
  {
   "cell_type": "markdown",
   "metadata": {},
   "source": [
    "## Flowsheet optimization with 8 DOFs"
   ]
  },
  {
   "cell_type": "code",
   "execution_count": 17,
   "metadata": {},
   "outputs": [
    {
     "name": "stdout",
     "output_type": "stream",
     "text": [
      "Model updates:\n",
      "\n",
      "\n",
      "Constraint added for recycle ratio <= 8.0.\n",
      "\n",
      "fs.H103 temperature lower and upper bounds added.\n",
      "\n",
      "fs.R102 isothermal operation constraint added.\n",
      "\n",
      "fs.H106 temperature lower bound updated.\n",
      "\n",
      "fs.F102 temperature lower bound updated.\n",
      "\n",
      "Objective function added.\n",
      "\n"
     ]
    }
   ],
   "source": [
    "update_model_for_optimization(m)"
   ]
  },
  {
   "cell_type": "markdown",
   "metadata": {},
   "source": [
    "## Dataframes to record multiple zone output"
   ]
  },
  {
   "cell_type": "code",
   "execution_count": 18,
   "metadata": {},
   "outputs": [],
   "source": [
    "import pandas as pd"
   ]
  },
  {
   "cell_type": "code",
   "execution_count": 19,
   "metadata": {},
   "outputs": [],
   "source": [
    "cols = ['region','butene', 'pentene', 'hexene', 'heptene', 'octene', 'nonene']\n",
    "outlet_conc_df = pd.DataFrame(columns=cols)\n",
    "\n",
    "LHV_cols = ['region','LHV_kJ_mol','MW_fuel','LHV_kJ_s']\n",
    "LHV_df = pd.DataFrame(columns=LHV_cols)"
   ]
  },
  {
   "cell_type": "code",
   "execution_count": 20,
   "metadata": {},
   "outputs": [],
   "source": [
    "## emissions factors for upstream emissions calculations\n",
    "upstream_emissions_factor_df = pd.read_csv('emissions_factor_by_region.csv')"
   ]
  },
  {
   "cell_type": "code",
   "execution_count": 21,
   "metadata": {
    "scrolled": true
   },
   "outputs": [
    {
     "name": "stdout",
     "output_type": "stream",
     "text": [
      "\n",
      " Region = EF-Basin \n",
      "\n",
      "Upstream EF =  9.1\n",
      "The initial DOF is 8\n",
      "Ipopt 3.13.2: tol=1e-06\n",
      "bound_push=1e-08\n",
      "max_iter=500\n",
      "\n",
      "\n",
      "******************************************************************************\n",
      "This program contains Ipopt, a library for large-scale nonlinear optimization.\n",
      " Ipopt is released as open source code under the Eclipse Public License (EPL).\n",
      "         For more information visit http://projects.coin-or.org/Ipopt\n",
      "\n",
      "This version of Ipopt was compiled from source code available at\n",
      "    https://github.com/IDAES/Ipopt as part of the Institute for the Design of\n",
      "    Advanced Energy Systems Process Systems Engineering Framework (IDAES PSE\n",
      "    Framework) Copyright (c) 2018-2019. See https://github.com/IDAES/idaes-pse.\n",
      "\n",
      "This version of Ipopt was compiled using HSL, a collection of Fortran codes\n",
      "    for large-scale scientific computation.  All technical papers, sales and\n",
      "    publicity material resulting from use of the HSL codes within IPOPT must\n",
      "    contain the following acknowledgement:\n",
      "        HSL, a collection of Fortran codes for large-scale scientific\n",
      "        computation. See http://www.hsl.rl.ac.uk.\n",
      "******************************************************************************\n",
      "\n",
      "This is Ipopt version 3.13.2, running with linear solver ma27.\n",
      "\n",
      "Number of nonzeros in equality constraint Jacobian...:    34098\n",
      "Number of nonzeros in inequality constraint Jacobian.:      178\n",
      "Number of nonzeros in Lagrangian Hessian.............:    17881\n",
      "\n",
      "Total number of variables............................:     5555\n",
      "                     variables with only lower bounds:      189\n",
      "                variables with lower and upper bounds:     3166\n",
      "                     variables with only upper bounds:       70\n",
      "Total number of equality constraints.................:     5547\n",
      "Total number of inequality constraints...............:       71\n",
      "        inequality constraints with only lower bounds:       20\n",
      "   inequality constraints with lower and upper bounds:        0\n",
      "        inequality constraints with only upper bounds:       51\n",
      "\n",
      "iter    objective    inf_pr   inf_du lg(mu)  ||d||  lg(rg) alpha_du alpha_pr  ls\n",
      "   0  1.1177787e+01 2.12e+01 1.00e+00  -1.0 0.00e+00    -  0.00e+00 0.00e+00   0\n",
      "   1  1.1180917e+01 2.48e+01 1.64e+06  -1.0 2.01e+05    -  8.36e-01 1.00e+00h  1\n",
      "   2  1.1180781e+01 1.39e+01 3.55e+04  -1.0 1.98e+05    -  9.78e-01 1.00e+00h  1\n",
      "   3  1.1391244e+01 5.20e+02 2.27e+04  -1.0 8.65e+04    -  3.63e-01 1.00e+00f  1\n",
      "   4  1.1476844e+01 3.36e+02 3.84e+03  -1.0 1.36e+05    -  8.52e-01 1.00e+00h  1\n",
      "   5  1.1794067e+01 8.39e+03 3.41e+04  -1.0 9.24e+05    -  9.70e-01 1.00e+00f  1\n",
      "   6  1.2069689e+01 3.49e+05 3.98e+06  -1.0 2.64e+07    -  8.15e-01 1.00e+00f  1\n",
      "   7  1.2097504e+01 3.40e+05 2.27e+06  -1.0 7.75e+07    -  9.78e-01 4.11e-01h  1\n",
      "   8  1.2119463e+01 5.38e+05 1.26e+07  -1.0 1.31e+08    -  4.31e-01 4.17e-01f  1\n",
      "   9  1.2084094e+01 3.17e+05 9.51e+06  -1.0 3.06e+07    -  6.52e-01 4.49e-01h  1\n",
      "iter    objective    inf_pr   inf_du lg(mu)  ||d||  lg(rg) alpha_du alpha_pr  ls\n",
      "  10  1.2081415e+01 2.87e+05 8.83e+06  -1.0 5.87e+06    -  9.76e-01 9.52e-02h  1\n",
      "  11  1.2083951e+01 1.36e+05 4.33e+06  -1.0 8.00e+06    -  1.00e+00 5.28e-01h  1\n",
      "  12  1.2083721e+01 7.67e+02 2.26e+04  -1.0 4.24e+06    -  1.00e+00 1.00e+00h  1\n",
      "  13  1.2083806e+01 2.05e+01 7.37e+02  -1.0 2.54e+04    -  1.00e+00 1.00e+00h  1\n",
      "  14  1.1233936e+01 1.76e+02 2.39e+06  -3.8 2.36e+04    -  9.91e-01 7.52e-01f  1\n",
      "  15  1.1234073e+01 1.46e-04 8.13e+01  -3.8 8.27e+00  -4.0 1.00e+00 1.00e+00h  1\n",
      "  16  1.1233954e+01 8.28e-04 2.91e-03  -3.8 5.43e-02  -4.5 1.00e+00 1.00e+00h  1\n",
      "  17  1.1233801e+01 3.34e-06 1.90e-02  -5.7 5.44e-02  -5.0 1.00e+00 1.00e+00h  1\n",
      "  18  1.1233802e+01 1.79e-07 3.50e-08  -5.7 9.46e-03  -5.4 1.00e+00 1.00e+00h  1\n",
      "  19  1.1233800e+01 2.38e-07 1.41e-05  -7.0 2.84e-02  -5.9 1.00e+00 1.00e+00h  1\n",
      "iter    objective    inf_pr   inf_du lg(mu)  ||d||  lg(rg) alpha_du alpha_pr  ls\n",
      "  20  1.1233800e+01 1.19e-07 3.50e-08  -7.0 8.51e-02  -6.4 1.00e+00 1.00e+00h  1\n",
      "\n",
      "Number of Iterations....: 20\n",
      "\n",
      "                                   (scaled)                 (unscaled)\n",
      "Objective...............:   1.1233800401599092e+01    1.1233800401599092e+01\n",
      "Dual infeasibility......:   3.5030025106644288e-08    3.5030025106644288e-08\n",
      "Constraint violation....:   3.7252902984619141e-09    1.1920928955078125e-07\n",
      "Complementarity.........:   9.0909092196166967e-08    9.0909092196166967e-08\n",
      "Overall NLP error.......:   9.0909092196166967e-08    1.1920928955078125e-07\n",
      "\n",
      "\n",
      "Number of objective function evaluations             = 21\n",
      "Number of objective gradient evaluations             = 21\n",
      "Number of equality constraint evaluations            = 21\n",
      "Number of inequality constraint evaluations          = 21\n",
      "Number of equality constraint Jacobian evaluations   = 21\n",
      "Number of inequality constraint Jacobian evaluations = 21\n",
      "Number of Lagrangian Hessian evaluations             = 20\n",
      "Total CPU secs in IPOPT (w/o function evaluations)   =     39.537\n",
      "Total CPU secs in NLP function evaluations           =    712.161\n",
      "\n",
      "EXIT: Optimal Solution Found.\n",
      "====================  Region = EF-Basin  ======================\n",
      "     region    butene    pentene     hexene    heptene     octene     nonene\n",
      "0  EF-Basin  8.129695  15.568877  22.044094  22.986459  24.164037  17.759324\n"
     ]
    }
   ],
   "source": [
    "for col in inlet_df.columns:\n",
    "    if col == 'Species':\n",
    "        pass\n",
    "    elif col == 'EF-Basin': # only EF-Basin composition solved here since this solution is used to initialize optimization of EF-1 to EF-12\n",
    "        print('\\n Region = {} \\n'.format(col))\n",
    "        region = col\n",
    "        case_name_current = col\n",
    "        \n",
    "        print(\"Upstream EF = \",m.fs.upstream_emission_factor())\n",
    "        \n",
    "        # Unfix DOFs\n",
    "        unfix_DOFs_pre_optimization(m)\n",
    "        \n",
    "        m.fs.H103.outlet.temperature.fix(593.0)\n",
    "        m.fs.H103.outlet.temperature.unfix()\n",
    "        DOF_initial = degrees_of_freedom(m)\n",
    "        print(\"The initial DOF is {0}\".format(DOF_initial))\n",
    "        \n",
    "        # Solve optimization problem\n",
    "        solver = SolverFactory('ipopt')\n",
    "        solver.options = {'tol': 1e-6,\n",
    "                          'bound_push': 1e-8,\n",
    "                          'max_iter': 500,\n",
    "                         }\n",
    "        solve_status = solver.solve(m, tee=True)\n",
    "\n",
    "        # Fix DOFs\n",
    "        fix_DOFs_post_optimization(m)\n",
    "        \n",
    "        ms.to_json(m, fname=\"./initialization_files/CISTAR_optimal_solution_{}_C_tax_{}_M{}_purge_{}_sequential_solve.json.gz\".format(case_name_current,m.fs.c_tax_rate(), model_code,round(m.fs.S102.split_fraction[0, \"purge\"](),3)))\n",
    "        \n",
    "        conc_list = []\n",
    "        for col in cols:\n",
    "            if col == 'region':\n",
    "                conc_list.append(region)\n",
    "            else:\n",
    "                conc_list.append(m.fs.F102.liq_outlet.flow_mol_phase_comp[0.0, 'Liq', col]())\n",
    "\n",
    "        outlet_conc_df.loc[len(outlet_conc_df.index)] = conc_list\n",
    "        \n",
    "        print(\"====================  Region = {}  ======================\".format(region))\n",
    "        print(outlet_conc_df)\n",
    "    else:\n",
    "        pass"
   ]
  },
  {
   "cell_type": "code",
   "execution_count": null,
   "metadata": {},
   "outputs": [],
   "source": []
  }
 ],
 "metadata": {
  "kernelspec": {
   "display_name": "Python 3",
   "language": "python",
   "name": "python3"
  },
  "language_info": {
   "codemirror_mode": {
    "name": "ipython",
    "version": 3
   },
   "file_extension": ".py",
   "mimetype": "text/x-python",
   "name": "python",
   "nbconvert_exporter": "python",
   "pygments_lexer": "ipython3",
   "version": "3.8.5"
  }
 },
 "nbformat": 4,
 "nbformat_minor": 5
}
