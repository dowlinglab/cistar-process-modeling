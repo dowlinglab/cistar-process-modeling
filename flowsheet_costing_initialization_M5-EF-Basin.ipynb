{
 "cells": [
  {
   "cell_type": "markdown",
   "metadata": {},
   "source": [
    "# Add costing and emissions calculations to process model"
   ]
  },
  {
   "cell_type": "markdown",
   "metadata": {},
   "source": [
    "## ROK model code = M5; Shale region: EF-Basin"
   ]
  },
  {
   "cell_type": "code",
   "execution_count": 1,
   "metadata": {},
   "outputs": [],
   "source": [
    "# simulation case specifications\n",
    "model_code = 5\n",
    "case_name = 'EF-Basin'\n",
    "c_tax_rate = 4.5e-2"
   ]
  },
  {
   "cell_type": "code",
   "execution_count": 2,
   "metadata": {},
   "outputs": [],
   "source": [
    "from idaes.core.util.model_statistics import degrees_of_freedom, large_residuals_set\n",
    "\n",
    "# Import idaes model serializer to store initialized model\n",
    "from idaes.core.util import model_serializer as ms\n",
    "\n",
    "from pyomo.environ import (Constraint,\n",
    "                           ConstraintList,\n",
    "                           Var,\n",
    "                           ConcreteModel,\n",
    "                           Expression,\n",
    "                           Param,\n",
    "                           Set,\n",
    "                           Objective,\n",
    "                           SolverFactory,\n",
    "                           TransformationFactory,\n",
    "                           value,\n",
    "                           minimize)\n",
    "\n",
    "from src.unit_initialization import create_flowsheet, \\\n",
    "                                    define_models, \\\n",
    "                                    define_arcs, \\\n",
    "                                    set_unit_model_variables, \\\n",
    "                                    initialize_flowsheet, \\\n",
    "                                    set_scaling_factors,\\\n",
    "                                    update_model_after_initialization,\\\n",
    "                                    vapor_only_to_vapor_liquid_reformulate,\\\n",
    "                                    update_model_for_optimization, \\\n",
    "                                    unfix_DOFs_pre_optimization, \\\n",
    "                                    fix_DOFs_post_optimization"
   ]
  },
  {
   "cell_type": "markdown",
   "metadata": {},
   "source": [
    "## Define inlet compositions"
   ]
  },
  {
   "cell_type": "code",
   "execution_count": 3,
   "metadata": {},
   "outputs": [],
   "source": [
    "M_catalyst = 1167.003367 # kg"
   ]
  },
  {
   "cell_type": "code",
   "execution_count": 4,
   "metadata": {},
   "outputs": [],
   "source": [
    "import pandas as pd\n",
    "\n",
    "inlet_df = pd.read_csv('NGL_compositions.csv')\n",
    "\n",
    "inlet_flow_rate = 481.3888889\n",
    "\n",
    "dehydro_conv_dict = {'ethane':0.3566,\n",
    "                     'propane':0.6632,\n",
    "                     'nbutane':0.5188}"
   ]
  },
  {
   "cell_type": "code",
   "execution_count": 5,
   "metadata": {},
   "outputs": [],
   "source": [
    "from src.emissions_calculations import calc_lhv_values, calculate_stream_energies, calculate_emissions, create_ghg_objective\n",
    "from src.costing_function import add_costing,calculate_costs_for_objective\n",
    "from src.utility_minimization_1d import (\n",
    "    min_utility,\n",
    "    PinchDataClass,\n",
    "    heat_ex_data,\n",
    "    gen_curves,\n",
    "    print_HX_results,\n",
    "    generate_curves,\n",
    "    heat_data,\n",
    "    pinch_calc,\n",
    "    return_data\n",
    ")"
   ]
  },
  {
   "cell_type": "code",
   "execution_count": 6,
   "metadata": {},
   "outputs": [],
   "source": [
    "import pandas as pd"
   ]
  },
  {
   "cell_type": "code",
   "execution_count": 7,
   "metadata": {},
   "outputs": [],
   "source": [
    "cols = ['region','butene', 'pentene', 'hexene', 'heptene', 'octene', 'nonene']\n",
    "outlet_conc_df = pd.DataFrame(columns=cols)\n",
    "\n",
    "LHV_cols = ['region','LHV_kJ_mol','MW_fuel','LHV_kJ_s']\n",
    "LHV_df = pd.DataFrame(columns=LHV_cols)"
   ]
  },
  {
   "cell_type": "markdown",
   "metadata": {},
   "source": [
    "## Flowsheet initialization with costing for multiple feed compositions"
   ]
  },
  {
   "cell_type": "code",
   "execution_count": 8,
   "metadata": {},
   "outputs": [],
   "source": [
    "inlet_df = pd.read_csv('NGL_compositions.csv')"
   ]
  },
  {
   "cell_type": "code",
   "execution_count": 9,
   "metadata": {},
   "outputs": [],
   "source": [
    "cols = ['region','butene','pentene','hexene','heptene','octene','nonene']\n",
    "outlet_conc_df = pd.DataFrame(columns=cols)"
   ]
  },
  {
   "cell_type": "code",
   "execution_count": 10,
   "metadata": {
    "scrolled": true
   },
   "outputs": [
    {
     "name": "stdout",
     "output_type": "stream",
     "text": [
      "Liquid phase flow is zero. Translator block fs.T102 liquid phase composition equations are being modified...\n",
      "\n",
      "Degenerate constraints removed and liquid phase composition values set to 1e-8\n",
      "\n",
      "Translator block fs.T102 liquid phase composition equations already modified, no degenerate constraints remaining.\n",
      "\n",
      "\n",
      " ************  Region = EF-Basin  ************\n",
      "\n",
      "Ipopt 3.13.2: tol=1e-06\n",
      "bound_push=1e-08\n",
      "max_iter=500\n",
      "\n",
      "\n",
      "******************************************************************************\n",
      "This program contains Ipopt, a library for large-scale nonlinear optimization.\n",
      " Ipopt is released as open source code under the Eclipse Public License (EPL).\n",
      "         For more information visit http://projects.coin-or.org/Ipopt\n",
      "\n",
      "This version of Ipopt was compiled from source code available at\n",
      "    https://github.com/IDAES/Ipopt as part of the Institute for the Design of\n",
      "    Advanced Energy Systems Process Systems Engineering Framework (IDAES PSE\n",
      "    Framework) Copyright (c) 2018-2019. See https://github.com/IDAES/idaes-pse.\n",
      "\n",
      "This version of Ipopt was compiled using HSL, a collection of Fortran codes\n",
      "    for large-scale scientific computation.  All technical papers, sales and\n",
      "    publicity material resulting from use of the HSL codes within IPOPT must\n",
      "    contain the following acknowledgement:\n",
      "        HSL, a collection of Fortran codes for large-scale scientific\n",
      "        computation. See http://www.hsl.rl.ac.uk.\n",
      "******************************************************************************\n",
      "\n",
      "This is Ipopt version 3.13.2, running with linear solver ma27.\n",
      "\n",
      "Number of nonzeros in equality constraint Jacobian...:    33102\n",
      "Number of nonzeros in inequality constraint Jacobian.:      165\n",
      "Number of nonzeros in Lagrangian Hessian.............:    17125\n",
      "\n",
      "Total number of variables............................:     5527\n",
      "                     variables with only lower bounds:      188\n",
      "                variables with lower and upper bounds:     3141\n",
      "                     variables with only upper bounds:       68\n",
      "Total number of equality constraints.................:     5527\n",
      "Total number of inequality constraints...............:       70\n",
      "        inequality constraints with only lower bounds:       20\n",
      "   inequality constraints with lower and upper bounds:        0\n",
      "        inequality constraints with only upper bounds:       50\n",
      "\n",
      "iter    objective    inf_pr   inf_du lg(mu)  ||d||  lg(rg) alpha_du alpha_pr  ls\n",
      "   0  0.0000000e+00 1.92e+07 1.00e+00  -1.0 0.00e+00    -  0.00e+00 0.00e+00   0\n",
      "   1  0.0000000e+00 1.19e+06 1.22e+10  -1.0 1.16e+07    -  5.32e-04 1.00e+00h  1\n",
      "   2  0.0000000e+00 3.63e-04 9.99e+04  -1.0 1.19e+06    -  9.90e-01 1.00e+00h  1\n",
      "   3  0.0000000e+00 5.96e-08 9.99e+02  -1.0 2.58e+00    -  9.90e-01 1.00e+00h  1\n",
      "Cannot recompute multipliers for feasibility problem.  Error in eq_mult_calculator\n",
      "\n",
      "Number of Iterations....: 3\n",
      "\n",
      "                                   (scaled)                 (unscaled)\n",
      "Objective...............:   0.0000000000000000e+00    0.0000000000000000e+00\n",
      "Dual infeasibility......:   1.0000000000026833e+07    1.0000000000026833e+07\n",
      "Constraint violation....:   1.3038516044616699e-08    5.9604644775390625e-08\n",
      "Complementarity.........:   0.0000000000000000e+00    0.0000000000000000e+00\n",
      "Overall NLP error.......:   1.3038516044616699e-08    1.0000000000026833e+07\n",
      "\n",
      "\n",
      "Number of objective function evaluations             = 4\n",
      "Number of objective gradient evaluations             = 4\n",
      "Number of equality constraint evaluations            = 4\n",
      "Number of inequality constraint evaluations          = 4\n",
      "Number of equality constraint Jacobian evaluations   = 4\n",
      "Number of inequality constraint Jacobian evaluations = 4\n",
      "Number of Lagrangian Hessian evaluations             = 3\n",
      "Total CPU secs in IPOPT (w/o function evaluations)   =     37.749\n",
      "Total CPU secs in NLP function evaluations           =     81.821\n",
      "\n",
      "EXIT: Optimal Solution Found.\n",
      "Min sell price: 11.177787256755737\n",
      "====================  Region = EF-Basin  ======================\n",
      "     region   butene    pentene     hexene    heptene     octene     nonene\n",
      "0  EF-Basin  7.26481  12.541081  17.560399  20.089917  23.024467  18.086057\n"
     ]
    }
   ],
   "source": [
    "for col in inlet_df.columns:\n",
    "    if col == 'Species':\n",
    "        pass\n",
    "    elif col == 'EF-Basin': # initialization needed only for EF-Basin; EF-1 to EF-12 solved with EF-Basin solution\n",
    "        region = col\n",
    "        case_name_current = col\n",
    "        \n",
    "        # define flowsheet\n",
    "        m = create_flowsheet(model_code)\n",
    "        \n",
    "        # define unit models\n",
    "        define_models(m, catalyst_mass = M_catalyst)\n",
    "        \n",
    "        # define connections\n",
    "        define_arcs(m)\n",
    "        \n",
    "        # define inlet composition\n",
    "        inlet_composition_dict = {}\n",
    "\n",
    "        for i,r in inlet_df.iterrows():\n",
    "            if r[col] == 0.0:\n",
    "                inlet_composition_dict[r['Species']] = 1e-6\n",
    "            else:\n",
    "                inlet_composition_dict[r['Species']] = round(r[col],4)\n",
    "        \n",
    "        ### Define constraints and set-points\n",
    "        set_unit_model_variables(m, model_code=model_code, feed_flow_rate = inlet_flow_rate, \n",
    "                         feed_temp = 308.0, feed_pressure = 700000.0,\n",
    "                         inlet_composition_dict = inlet_composition_dict,\n",
    "                         dehydro_conv_dict = dehydro_conv_dict)\n",
    "        \n",
    "        ### Scale model components\n",
    "        if model_code == 2 or model_code == 3:\n",
    "            set_scaling_factors(m,flow_mol_scaling_factor = 1e-2, inlet_composition_dict = inlet_composition_dict)\n",
    "        elif model_code == 4 or model_code == 5:\n",
    "            set_scaling_factors(m,flow_mol_scaling_factor = 1e-3, inlet_composition_dict = inlet_composition_dict)\n",
    "        else:\n",
    "            pass\n",
    "        \n",
    "        ### Read-in initialization data from .json file with Bakken feed composition\n",
    "        init_file_name = \"./initialization_files/CISTAR_unit_initialization_{}_M{}.json.gz\".format('Bakken', model_code)\n",
    "        ms.from_json(m, fname=init_file_name)\n",
    "        \n",
    "        ### Add post-initialization constraints\n",
    "        update_model_after_initialization(m)\n",
    "        vapor_only_to_vapor_liquid_reformulate(m.fs.T102)\n",
    "        vapor_only_to_vapor_liquid_reformulate(m.fs.T102)\n",
    "        \n",
    "        ### Read-in flowsheet convergence data from .json file\n",
    "        init_file_name = \"./initialization_files/CISTAR_solve_constrained_{}_M{}_purge_{}.json.gz\".format(case_name_current, model_code,round(m.fs.S102.split_fraction[0, \"purge\"](),3))\n",
    "        ms.from_json(m, fname=init_file_name)\n",
    "        \n",
    "        ### Equipment costing\n",
    "        add_costing(m)\n",
    "        ### Heat integration\n",
    "        # Heat Exchangers and reactors\n",
    "        min_utility(\n",
    "            m.fs, [m.fs.H101, m.fs.H103, m.fs.R101], [m.fs.H102, m.fs.H104, m.fs.H105, m.fs.H106, m.fs.R102], 10.0\n",
    "        )\n",
    "        m.fs.Qs.fix()\n",
    "        \n",
    "        ### Emissions calculations\n",
    "        calc_lhv_values(m,case_name_current,'./LHV.xlsx','NGL_compositions.csv','NGL_fraction.csv')\n",
    "        calculate_stream_energies(m)\n",
    "        calculate_emissions(m,case_name_current,'emissions_factor_by_region.csv')\n",
    "        create_ghg_objective(m)\n",
    "        calculate_costs_for_objective(m,c_tax_flag=True, c_tax_val = c_tax_rate)\n",
    "        \n",
    "        ### Region-specific square solve for costing initialization\n",
    "        print('\\n ************  Region = {}  ************\\n'.format(col))\n",
    "        DOF_initial = degrees_of_freedom(m)\n",
    "        print(\"The final DOF of initialized flowsheet is {0}\".format(DOF_initial))\n",
    "        solver = SolverFactory('ipopt')\n",
    "        solver.options = {'tol': 1e-6,\n",
    "                          'bound_push': 1e-8,\n",
    "                          'max_iter': 500\n",
    "                         }\n",
    "        solve_status = solver.solve(m, tee=True)\n",
    "\n",
    "        print('Min sell price:',m.fs.min_sell_price())\n",
    "        ms.to_json(m, fname=\"./initialization_files/CISTAR_solve_with_costing_{}_C_tax_{}_M{}_purge_{}.json.gz\".format(case_name_current,m.fs.c_tax_rate(), model_code,round(m.fs.S102.split_fraction[0, \"purge\"](),3)))\n",
    "        \n",
    "        conc_list = []\n",
    "        for col in cols:\n",
    "            if col == 'region':\n",
    "                conc_list.append(region)\n",
    "            else:\n",
    "                conc_list.append(m.fs.F102.liq_outlet.flow_mol_phase_comp[0.0, 'Liq', col]())\n",
    "\n",
    "        outlet_conc_df.loc[len(outlet_conc_df.index)] = conc_list\n",
    "        \n",
    "        print(\"====================  Region = {}  ======================\".format(region))\n",
    "        print(outlet_conc_df)\n",
    "    else:\n",
    "        pass"
   ]
  }
 ],
 "metadata": {
  "kernelspec": {
   "display_name": "Python 3",
   "language": "python",
   "name": "python3"
  },
  "language_info": {
   "codemirror_mode": {
    "name": "ipython",
    "version": 3
   },
   "file_extension": ".py",
   "mimetype": "text/x-python",
   "name": "python",
   "nbconvert_exporter": "python",
   "pygments_lexer": "ipython3",
   "version": "3.8.5"
  }
 },
 "nbformat": 4,
 "nbformat_minor": 5
}
