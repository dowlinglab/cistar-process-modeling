{
 "cells": [
  {
   "cell_type": "markdown",
   "metadata": {},
   "source": [
    "# Flowsheet initialization\n",
    "## ROK model = M5; NGL Feed: EF-Basin"
   ]
  },
  {
   "cell_type": "code",
   "execution_count": 1,
   "metadata": {},
   "outputs": [],
   "source": [
    "# simulation case specifications\n",
    "model_code = 5\n",
    "case_name = 'Bakken'"
   ]
  },
  {
   "cell_type": "code",
   "execution_count": 2,
   "metadata": {},
   "outputs": [],
   "source": [
    "from idaes.core.util.model_statistics import degrees_of_freedom, large_residuals_set\n",
    "\n",
    "# Import idaes model serializer to store initialized model\n",
    "from idaes.core.util import model_serializer as ms\n",
    "\n",
    "from pyomo.environ import (Constraint,\n",
    "                           ConstraintList,\n",
    "                           Var,\n",
    "                           ConcreteModel,\n",
    "                           Expression,\n",
    "                           Param,\n",
    "                           Set,\n",
    "                           Objective,\n",
    "                           SolverFactory,\n",
    "                           TransformationFactory,\n",
    "                           value,\n",
    "                           minimize)\n",
    "\n",
    "from src.unit_initialization import create_flowsheet, \\\n",
    "                                    define_models, \\\n",
    "                                    define_arcs, \\\n",
    "                                    set_unit_model_variables, \\\n",
    "                                    initialize_flowsheet, \\\n",
    "                                    set_scaling_factors,\\\n",
    "                                    update_model_after_initialization,\\\n",
    "                                    vapor_only_to_vapor_liquid_reformulate,\\\n",
    "                                    H106_inlet_vapor_reformulate, \\\n",
    "                                    replace_heater_heat_duty_constraint_with_bounds, \\\n",
    "                                    update_model_for_optimization, \\\n",
    "                                    unfix_DOFs_pre_optimization, \\\n",
    "                                    fix_DOFs_post_optimization"
   ]
  },
  {
   "cell_type": "code",
   "execution_count": 3,
   "metadata": {
    "scrolled": false
   },
   "outputs": [],
   "source": [
    "m = create_flowsheet(model_code)"
   ]
  },
  {
   "cell_type": "code",
   "execution_count": 4,
   "metadata": {},
   "outputs": [],
   "source": [
    "M_catalyst = 1167.003367 # kg"
   ]
  },
  {
   "cell_type": "markdown",
   "metadata": {},
   "source": [
    "## Define equipment and connections"
   ]
  },
  {
   "cell_type": "code",
   "execution_count": 5,
   "metadata": {},
   "outputs": [],
   "source": [
    "# define unit models\n",
    "define_models(m, catalyst_mass = M_catalyst)\n",
    "#define connections\n",
    "define_arcs(m)"
   ]
  },
  {
   "cell_type": "markdown",
   "metadata": {},
   "source": [
    "## Define inlet compositions"
   ]
  },
  {
   "cell_type": "code",
   "execution_count": 6,
   "metadata": {},
   "outputs": [],
   "source": [
    "import pandas as pd\n",
    "\n",
    "inlet_df = pd.read_csv('NGL_compositions.csv')\n",
    "\n",
    "inlet_composition_dict = {}\n",
    "\n",
    "for col in inlet_df.columns:\n",
    "    if col == case_name:\n",
    "        for i,r in inlet_df.iterrows():\n",
    "            if r[col] == 0.0:\n",
    "                inlet_composition_dict[r['Species']] = 1e-6\n",
    "            else:\n",
    "                inlet_composition_dict[r['Species']] = round(r[col],4)\n",
    "\n",
    "inlet_flow_rate = 481.3888889\n",
    "\n",
    "dehydro_conv_dict = {'ethane':0.3566,\n",
    "                     'propane':0.6632,\n",
    "                     'nbutane':0.5188}"
   ]
  },
  {
   "cell_type": "markdown",
   "metadata": {},
   "source": [
    "## Define constraints and set-points for equipment"
   ]
  },
  {
   "cell_type": "code",
   "execution_count": 7,
   "metadata": {},
   "outputs": [],
   "source": [
    "set_unit_model_variables(m, model_code=model_code, feed_flow_rate = inlet_flow_rate, \n",
    "                         feed_temp = 308.0, feed_pressure = 700000.0,\n",
    "                         inlet_composition_dict = inlet_composition_dict,\n",
    "                         dehydro_conv_dict = dehydro_conv_dict)"
   ]
  },
  {
   "cell_type": "markdown",
   "metadata": {},
   "source": [
    "## Scale model components"
   ]
  },
  {
   "cell_type": "code",
   "execution_count": 8,
   "metadata": {
    "scrolled": true
   },
   "outputs": [],
   "source": [
    "if model_code == 2 or model_code == 3:\n",
    "    set_scaling_factors(m,flow_mol_scaling_factor = 1e-2, inlet_composition_dict = inlet_composition_dict)\n",
    "elif model_code == 4 or model_code == 5:\n",
    "    set_scaling_factors(m,flow_mol_scaling_factor = 1e-3, inlet_composition_dict = inlet_composition_dict)\n",
    "else:\n",
    "    pass"
   ]
  },
  {
   "cell_type": "markdown",
   "metadata": {},
   "source": [
    "## Sequence for initialization"
   ]
  },
  {
   "cell_type": "code",
   "execution_count": 9,
   "metadata": {},
   "outputs": [
    {
     "name": "stdout",
     "output_type": "stream",
     "text": [
      "fs.s01\n",
      "Order of initialization\n",
      "fs.H101\n",
      "fs.R101\n",
      "fs.H102\n",
      "fs.S101\n",
      "fs.H103\n",
      "fs.R102\n",
      "fs.H104\n",
      "fs.T102\n",
      "fs.H105\n",
      "fs.F101\n",
      "fs.H106\n",
      "fs.F102\n",
      "fs.T104\n",
      "fs.C101\n",
      "fs.T105\n",
      "fs.M102\n",
      "fs.S102\n",
      "fs.C102\n",
      "fs.M101\n"
     ]
    }
   ],
   "source": [
    "from pyomo.network import SequentialDecomposition\n",
    "seq = SequentialDecomposition()\n",
    "seq.options.select_tear_method = \"heuristic\"\n",
    "seq.options.tear_method = \"Wegstein\"\n",
    "seq.options.iterLim = 5\n",
    "\n",
    "# Using the SD tool\n",
    "G = seq.create_graph(m)\n",
    "heuristic_tear_set = seq.tear_set_arcs(G, method=\"heuristic\")\n",
    "order = seq.calculation_order(G)\n",
    "\n",
    "for o in heuristic_tear_set:\n",
    "    print(o.name)\n",
    "print(\"Order of initialization\")\n",
    "for o in order:\n",
    "    print(o[0].name)    \n",
    "    \n",
    "def function(unit):\n",
    "    unit.initialize(outlvl=idaeslog.INFO_HIGH)  "
   ]
  },
  {
   "cell_type": "markdown",
   "metadata": {},
   "source": [
    "## Read-in initialization data from initialization with M5 and Bakken feed"
   ]
  },
  {
   "cell_type": "code",
   "execution_count": 10,
   "metadata": {},
   "outputs": [
    {
     "data": {
      "text/plain": [
       "{'etime_load_file': 0.07416248321533203,\n",
       " 'etime_read_dict': 0.17183732986450195,\n",
       " 'etime_read_suffixes': 0.006053447723388672}"
      ]
     },
     "execution_count": 10,
     "metadata": {},
     "output_type": "execute_result"
    }
   ],
   "source": [
    "init_file_name = \"./initialization_files/CISTAR_unit_initialization_{}_M{}.json.gz\".format(case_name, model_code)\n",
    "ms.from_json(m, fname=init_file_name)"
   ]
  },
  {
   "cell_type": "markdown",
   "metadata": {},
   "source": [
    "## Add post-initialization constraints"
   ]
  },
  {
   "cell_type": "code",
   "execution_count": 11,
   "metadata": {},
   "outputs": [
    {
     "name": "stdout",
     "output_type": "stream",
     "text": [
      "Liquid phase flow is zero. Translator block fs.T102 liquid phase composition equations are being modified...\n",
      "\n",
      "Degenerate constraints removed and liquid phase composition values set to 1e-8\n",
      "\n",
      "Translator block fs.T102 liquid phase composition equations already modified, no degenerate constraints remaining.\n",
      "\n"
     ]
    }
   ],
   "source": [
    "update_model_after_initialization(m)\n",
    "vapor_only_to_vapor_liquid_reformulate(m.fs.T102)\n",
    "vapor_only_to_vapor_liquid_reformulate(m.fs.T102)"
   ]
  },
  {
   "cell_type": "markdown",
   "metadata": {},
   "source": [
    "## Read-in converged flowsheet solution using M5 and Bakken feed"
   ]
  },
  {
   "cell_type": "code",
   "execution_count": 12,
   "metadata": {},
   "outputs": [
    {
     "data": {
      "text/plain": [
       "{'etime_load_file': 0.07401680946350098,\n",
       " 'etime_read_dict': 0.1745152473449707,\n",
       " 'etime_read_suffixes': 0.0}"
      ]
     },
     "execution_count": 12,
     "metadata": {},
     "output_type": "execute_result"
    }
   ],
   "source": [
    "init_file_name = \"./initialization_files/CISTAR_solve_constrained_{}_M{}_purge_{}.json.gz\".format(case_name, model_code,round(m.fs.S102.split_fraction[0, \"purge\"](),3))\n",
    "ms.from_json(m, fname=init_file_name)"
   ]
  },
  {
   "cell_type": "code",
   "execution_count": 13,
   "metadata": {},
   "outputs": [],
   "source": [
    "DOF_initial = degrees_of_freedom(m)\n",
    "print(\"The final DOF of initialized flowsheet is {0}\".format(DOF_initial))"
   ]
  },
  {
   "cell_type": "markdown",
   "metadata": {},
   "source": [
    "## Dataframes to record multiple zone output"
   ]
  },
  {
   "cell_type": "code",
   "execution_count": 14,
   "metadata": {},
   "outputs": [],
   "source": [
    "import pandas as pd"
   ]
  },
  {
   "cell_type": "code",
   "execution_count": 15,
   "metadata": {},
   "outputs": [],
   "source": [
    "cols = ['region','butene', 'pentene', 'hexene', 'heptene', 'octene', 'nonene']\n",
    "outlet_conc_df = pd.DataFrame(columns=cols)\n",
    "\n",
    "LHV_cols = ['region','LHV_kJ_mol','MW_fuel','LHV_kJ_s']\n",
    "LHV_df = pd.DataFrame(columns=LHV_cols)"
   ]
  },
  {
   "cell_type": "code",
   "execution_count": 16,
   "metadata": {},
   "outputs": [
    {
     "name": "stdout",
     "output_type": "stream",
     "text": [
      "   region    butene    pentene     hexene    heptene     octene     nonene\n",
      "0  Bakken  6.593976  12.499718  20.333122  24.197909  29.876602  25.110165\n"
     ]
    }
   ],
   "source": [
    "conc_list = []\n",
    "for col in cols:\n",
    "    if col == 'region':\n",
    "        conc_list.append(case_name)\n",
    "    else:\n",
    "        conc_list.append(m.fs.F102.liq_outlet.flow_mol_phase_comp[0.0, 'Liq', col]())\n",
    "\n",
    "outlet_conc_df.loc[len(outlet_conc_df.index)] = conc_list\n",
    "\n",
    "print(outlet_conc_df)"
   ]
  },
  {
   "cell_type": "markdown",
   "metadata": {},
   "source": [
    "## Flowsheet initialization for multiple feed compositions"
   ]
  },
  {
   "cell_type": "code",
   "execution_count": 17,
   "metadata": {
    "scrolled": false
   },
   "outputs": [
    {
     "name": "stdout",
     "output_type": "stream",
     "text": [
      "\n",
      " Region = EF-Basin \n",
      "\n",
      "Ipopt 3.13.2: tol=1e-06\n",
      "bound_push=1e-08\n",
      "max_iter=500\n",
      "\n",
      "\n",
      "******************************************************************************\n",
      "This program contains Ipopt, a library for large-scale nonlinear optimization.\n",
      " Ipopt is released as open source code under the Eclipse Public License (EPL).\n",
      "         For more information visit http://projects.coin-or.org/Ipopt\n",
      "\n",
      "This version of Ipopt was compiled from source code available at\n",
      "    https://github.com/IDAES/Ipopt as part of the Institute for the Design of\n",
      "    Advanced Energy Systems Process Systems Engineering Framework (IDAES PSE\n",
      "    Framework) Copyright (c) 2018-2019. See https://github.com/IDAES/idaes-pse.\n",
      "\n",
      "This version of Ipopt was compiled using HSL, a collection of Fortran codes\n",
      "    for large-scale scientific computation.  All technical papers, sales and\n",
      "    publicity material resulting from use of the HSL codes within IPOPT must\n",
      "    contain the following acknowledgement:\n",
      "        HSL, a collection of Fortran codes for large-scale scientific\n",
      "        computation. See http://www.hsl.rl.ac.uk.\n",
      "******************************************************************************\n",
      "\n",
      "This is Ipopt version 3.13.2, running with linear solver ma27.\n",
      "\n",
      "Number of nonzeros in equality constraint Jacobian...:    32690\n",
      "Number of nonzeros in inequality constraint Jacobian.:      131\n",
      "Number of nonzeros in Lagrangian Hessian.............:    17014\n",
      "\n",
      "Total number of variables............................:     5474\n",
      "                     variables with only lower bounds:      133\n",
      "                variables with lower and upper bounds:     3143\n",
      "                     variables with only upper bounds:       68\n",
      "Total number of equality constraints.................:     5472\n",
      "Total number of inequality constraints...............:       61\n",
      "        inequality constraints with only lower bounds:       20\n",
      "   inequality constraints with lower and upper bounds:        0\n",
      "        inequality constraints with only upper bounds:       41\n",
      "\n",
      "iter    objective    inf_pr   inf_du lg(mu)  ||d||  lg(rg) alpha_du alpha_pr  ls\n",
      "   0  0.0000000e+00 6.20e-01 1.00e+00  -1.0 0.00e+00    -  0.00e+00 0.00e+00   0\n",
      "   1  0.0000000e+00 6.17e-01 7.93e+04  -1.0 5.11e+07    -  1.29e-02 5.00e-03h  7\n",
      "   2  0.0000000e+00 6.14e-01 1.18e+05  -1.0 2.60e+07    -  8.83e-03 4.86e-03h  6\n",
      "   3  0.0000000e+00 6.11e-01 2.03e+05  -1.0 2.58e+07    -  1.34e-02 4.66e-03h  6\n",
      "   4  0.0000000e+00 6.08e-01 4.12e+05  -1.0 2.57e+07    -  2.62e-02 4.50e-03h  6\n",
      "   5  0.0000000e+00 6.06e-01 1.38e+06  -1.0 2.55e+07    -  1.08e-01 4.34e-03h  6\n",
      "   6  0.0000000e+00 6.03e-01 1.63e+06  -1.0 2.50e+07    -  3.39e-02 4.30e-03h  6\n",
      "   7  0.0000000e+00 6.00e-01 1.74e+06  -1.0 2.49e+07    -  2.00e-02 4.87e-03h  6\n",
      "   8  0.0000000e+00 5.97e-01 1.73e+06  -1.0 1.95e+07    -  3.90e-03 4.84e-03h  4\n",
      "   9  0.0000000e+00 5.92e-01 1.71e+06  -1.0 1.92e+07    -  8.37e-03 8.05e-03h  3\n",
      "iter    objective    inf_pr   inf_du lg(mu)  ||d||  lg(rg) alpha_du alpha_pr  ls\n",
      "  10  0.0000000e+00 5.89e-01 1.87e+06  -1.0 1.92e+07    -  2.70e-02 6.05e-03h  3\n",
      "  11  0.0000000e+00 5.78e-01 2.36e+06  -1.0 1.92e+07    -  8.72e-02 1.82e-02w  1\n",
      "  12  0.0000000e+00 5.78e-01 2.78e+06  -1.0 1.96e+07    -  6.05e-02 2.00e-04w  1\n",
      "  13  0.0000000e+00 5.75e-01 3.07e+06  -1.0 2.38e+07    -  5.26e-02 5.92e-03w  1\n",
      "  14  0.0000000e+00 5.86e-01 2.49e+06  -1.0 2.47e+07    -  8.72e-02 4.55e-03h  2\n",
      "  15  0.0000000e+00 5.82e-01 2.68e+06  -1.0 1.92e+07    -  3.63e-02 6.85e-03h  2\n",
      "  16  0.0000000e+00 5.78e-01 3.41e+06  -1.0 1.93e+07    -  1.20e-01 6.96e-03h  1\n",
      "  17  0.0000000e+00 5.77e-01 3.70e+06  -1.0 2.36e+07    -  5.02e-02 1.48e-03h  1\n",
      "  18  0.0000000e+00 5.74e-01 4.24e+06  -1.0 2.44e+07    -  1.06e-01 5.70e-03h  4\n",
      "  19  0.0000000e+00 5.70e-01 4.74e+06  -1.0 2.84e+07    -  1.14e-01 7.68e-03h  5\n",
      "iter    objective    inf_pr   inf_du lg(mu)  ||d||  lg(rg) alpha_du alpha_pr  ls\n",
      "  20  0.0000000e+00 5.63e-01 5.77e+06  -1.0 3.68e+07    -  2.56e-01 1.20e-02h  5\n",
      "  21  0.0000000e+00 5.56e-01 6.71e+06  -1.0 5.06e+07    -  3.19e-01 1.21e-02h  6\n",
      "  22  0.0000000e+00 5.50e-01 7.50e+06  -1.0 5.83e+07    -  3.91e-01 9.97e-03h  7\n",
      "  23  0.0000000e+00 5.44e-01 7.92e+06  -1.0 6.16e+07    -  3.82e-01 1.16e-02h  7\n",
      "  24  0.0000000e+00 5.37e-01 8.23e+06  -1.0 6.22e+07    -  4.81e-01 1.20e-02h  7\n",
      "  25  0.0000000e+00 5.31e-01 8.39e+06  -1.0 6.22e+07    -  6.06e-01 1.22e-02h  7\n",
      "  26  0.0000000e+00 5.24e-01 8.42e+06  -1.0 6.14e+07    -  7.31e-01 1.22e-02h  7\n",
      "  27  0.0000000e+00 5.18e-01 8.35e+06  -1.0 5.97e+07    -  7.67e-01 1.20e-02h  7\n",
      "  28  0.0000000e+00 3.34e+01 1.05e+07  -1.0 5.81e+07    -  7.74e-01 7.52e-01w  1\n",
      "  29  0.0000000e+00 8.80e+00 3.79e+06  -1.0 1.90e+07    -  9.27e-01 7.91e-01w  1\n",
      "iter    objective    inf_pr   inf_du lg(mu)  ||d||  lg(rg) alpha_du alpha_pr  ls\n",
      "  30  0.0000000e+00 7.88e-01 7.28e+05  -1.0 4.30e+06    -  9.64e-01 9.23e-01h  1\n",
      "  31  0.0000000e+00 8.66e-04 4.82e+07  -1.7 1.90e+05    -  1.04e-02 1.00e+00h  1\n",
      "  32  0.0000000e+00 1.23e-03 8.11e+06  -1.7 2.07e+05    -  5.28e-01 1.00e+00h  1\n",
      "  33  0.0000000e+00 5.12e-03 3.72e+04  -1.7 3.08e+05    -  9.90e-01 1.00e+00f  1\n",
      "  34  0.0000000e+00 1.50e-02 2.37e+05  -2.5 7.33e+05    -  9.98e-01 1.00e+00h  1\n",
      "  35  0.0000000e+00 5.62e-01 3.14e+04  -2.5 4.35e+06    -  1.00e+00 1.00e+00f  1\n",
      "  36  0.0000000e+00 1.25e-02 9.62e+02  -2.5 3.66e+05    -  1.00e+00 1.00e+00h  1\n",
      "  37  0.0000000e+00 2.59e-05 1.79e+00  -2.5 2.17e+04    -  1.00e+00 1.00e+00h  1\n",
      "  38  0.0000000e+00 4.55e-12 1.48e+00  -5.7 2.24e+01    -  1.00e+00 1.00e+00h  1\n",
      "  39  0.0000000e+00 1.25e-10 3.95e-05  -5.7 5.95e+01    -  1.00e+00 1.00e+00h  1\n",
      "iter    objective    inf_pr   inf_du lg(mu)  ||d||  lg(rg) alpha_du alpha_pr  ls\n",
      "  40  0.0000000e+00 1.08e-10 1.50e-06  -7.0 3.04e-02    -  1.00e+00 1.00e+00h  1\n",
      "  41  0.0000000e+00 1.86e-11 3.47e-12  -7.0 5.75e-01    -  1.00e+00 1.00e+00h  1\n",
      "\n",
      "Number of Iterations....: 41\n",
      "\n",
      "                                   (scaled)                 (unscaled)\n",
      "Objective...............:   0.0000000000000000e+00    0.0000000000000000e+00\n",
      "Dual infeasibility......:   3.4747867091291684e-12    3.4747867091291684e-12\n",
      "Constraint violation....:   4.5474735088646412e-13    1.8644641386345029e-11\n",
      "Complementarity.........:   9.0909090909151292e-08    9.0909090909151292e-08\n",
      "Overall NLP error.......:   9.0909090909151292e-08    9.0909090909151292e-08\n",
      "\n",
      "\n",
      "Number of objective function evaluations             = 187\n",
      "Number of objective gradient evaluations             = 42\n",
      "Number of equality constraint evaluations            = 187\n",
      "Number of inequality constraint evaluations          = 187\n",
      "Number of equality constraint Jacobian evaluations   = 42\n",
      "Number of inequality constraint Jacobian evaluations = 42\n",
      "Number of Lagrangian Hessian evaluations             = 41\n",
      "Total CPU secs in IPOPT (w/o function evaluations)   =     40.894\n",
      "Total CPU secs in NLP function evaluations           =   1764.929\n",
      "\n",
      "EXIT: Optimal Solution Found.\n",
      "====================  Region = EF-Basin  ======================\n",
      "     region    butene    pentene     hexene    heptene     octene     nonene\n",
      "0    Bakken  6.593976  12.499718  20.333122  24.197909  29.876602  25.110165\n",
      "1  EF-Basin  7.264810  12.541081  17.560399  20.089917  23.024467  18.086057\n"
     ]
    }
   ],
   "source": [
    "for col in inlet_df.columns:\n",
    "    if col == 'Species':\n",
    "        pass\n",
    "    elif col == 'EF-Basin':\n",
    "        region = col\n",
    "        case_name_current = col\n",
    "        for i,r in inlet_df.iterrows():\n",
    "            m.fs.M101.feed.mole_frac_comp[0, r['Species']].unfix()\n",
    "            if r[col] == 0.0:\n",
    "                m.fs.M101.feed.mole_frac_comp[0, r['Species']].fix(1e-6)\n",
    "            else:\n",
    "                m.fs.M101.feed.mole_frac_comp[0, r['Species']].fix(round(r[col],4))\n",
    "\n",
    "        m.fs.C102.inlet.flow_mol.unfix()\n",
    "        m.fs.M101.recycle.flow_mol.unfix()\n",
    "        for k,v in inlet_composition_dict.items():\n",
    "            m.fs.C102.inlet.mole_frac_comp[0, k].unfix()\n",
    "            m.fs.M101.recycle.mole_frac_comp[0, k].unfix()\n",
    "        \n",
    "        m.fs.H106.outlet.temperature.unfix()\n",
    "        m.fs.H106.outlet.pressure.unfix()\n",
    "\n",
    "        print('\\n Region = {} \\n'.format(col))\n",
    "        solver = SolverFactory('ipopt')\n",
    "        solver.options = {'tol': 1e-6,\n",
    "                          'bound_push': 1e-8,\n",
    "                          'max_iter': 500\n",
    "                         }\n",
    "        solve_status = solver.solve(m, tee=True)\n",
    "\n",
    "        m.fs.H106.outlet.temperature.fix()\n",
    "        m.fs.H106.outlet.pressure.fix()\n",
    "        \n",
    "        ms.to_json(m, fname=\"./initialization_files/CISTAR_solve_constrained_{}_M{}_purge_{}.json.gz\".format(case_name_current, model_code,round(m.fs.S102.split_fraction[0, \"purge\"](),3)))\n",
    "        \n",
    "        conc_list = []\n",
    "        for col in cols:\n",
    "            if col == 'region':\n",
    "                conc_list.append(region)\n",
    "            else:\n",
    "                conc_list.append(m.fs.F102.liq_outlet.flow_mol_phase_comp[0.0, 'Liq', col]())\n",
    "\n",
    "        outlet_conc_df.loc[len(outlet_conc_df.index)] = conc_list\n",
    "        \n",
    "        print(\"====================  Region = {}  ======================\".format(region))\n",
    "        print(outlet_conc_df)\n",
    "    else:\n",
    "        pass"
   ]
  },
  {
   "cell_type": "code",
   "execution_count": null,
   "metadata": {},
   "outputs": [],
   "source": []
  }
 ],
 "metadata": {
  "kernelspec": {
   "display_name": "Python 3",
   "language": "python",
   "name": "python3"
  },
  "language_info": {
   "codemirror_mode": {
    "name": "ipython",
    "version": 3
   },
   "file_extension": ".py",
   "mimetype": "text/x-python",
   "name": "python",
   "nbconvert_exporter": "python",
   "pygments_lexer": "ipython3",
   "version": "3.8.5"
  }
 },
 "nbformat": 4,
 "nbformat_minor": 5
}
